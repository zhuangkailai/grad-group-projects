{
 "cells": [
  {
   "cell_type": "markdown",
   "metadata": {},
   "source": [
    "## 先训练老师网络 "
   ]
  },
  {
   "cell_type": "code",
   "metadata": {
    "ExecuteTime": {
     "end_time": "2024-05-23T11:32:18.757900Z",
     "start_time": "2024-05-23T11:32:18.740901Z"
    }
   },
   "source": [
    "import math\n",
    "import torch\n",
    "import torch.nn as nn\n",
    "import torch.nn.functional as F\n",
    "#from torchvision import datasets, transforms\n",
    "import torch.utils.data\n",
    "\n",
    "\n",
    "torch.manual_seed(0)\n",
    "torch.cuda.manual_seed(0)\n",
    "\n",
    "device = torch.device(\"cuda\" if torch.cuda.is_available() else \"cpu\")\n",
    "print(device)"
   ],
   "outputs": [
    {
     "name": "stdout",
     "output_type": "stream",
     "text": [
      "cuda\n"
     ]
    }
   ],
   "execution_count": 26
  },
  {
   "cell_type": "code",
   "metadata": {
    "ExecuteTime": {
     "end_time": "2024-05-23T11:32:18.789901Z",
     "start_time": "2024-05-23T11:32:18.774901Z"
    }
   },
   "source": [
    "class TeacherNet(nn.Module):\n",
    "    def __init__(self):\n",
    "        super(TeacherNet, self).__init__()\n",
    "        self.conv1 = nn.Conv2d(1, 32, 3, 1)\n",
    "        self.conv2 = nn.Conv2d(32, 64, 3, 1)\n",
    "        self.dropout1 = nn.Dropout2d(0.3)\n",
    "        self.dropout2 = nn.Dropout2d(0.5)\n",
    "        self.fc1 = nn.Linear(9216, 128)\n",
    "        self.fc2 = nn.Linear(128, 10)\n",
    "\n",
    "    def forward(self, x):\n",
    "        x = self.conv1(x)\n",
    "        x = F.relu(x)\n",
    "        x = self.conv2(x)\n",
    "        x = F.relu(x)\n",
    "        x = F.max_pool2d(x, 2)\n",
    "        x = self.dropout1(x)\n",
    "        x = torch.flatten(x, 1)\n",
    "        x = self.fc1(x)\n",
    "        x = F.relu(x)\n",
    "        x = self.dropout2(x)\n",
    "        output = self.fc2(x)\n",
    "        return output\n",
    "\n",
    "\n",
    "def train_teacher(model, device, train_loader, optimizer, epoch):\n",
    "    model.train()\n",
    "    trained_samples = 0\n",
    "    for batch_idx, (data, target) in enumerate(train_loader):\n",
    "        data, target = data.to(device), target.to(device)\n",
    "        optimizer.zero_grad()\n",
    "        output = model(data)\n",
    "        loss = F.cross_entropy(output, target)\n",
    "        loss.backward()\n",
    "        optimizer.step()\n",
    "\n",
    "        trained_samples += len(data)\n",
    "        progress = math.ceil(batch_idx / len(train_loader) * 50)\n",
    "        print(\"\\rTrain epoch %d: %d/%d, [%-51s] %d%%\" %\n",
    "              (epoch, trained_samples, len(train_loader.dataset),\n",
    "               '-' * progress + '>', progress * 2), end='')\n",
    "\n",
    "\n",
    "def test_teacher(model, device, test_loader):\n",
    "    model.eval()\n",
    "    test_loss = 0\n",
    "    correct = 0\n",
    "    with torch.no_grad():\n",
    "        for data, target in test_loader:\n",
    "            data, target = data.to(device), target.to(device)\n",
    "            output = model(data)\n",
    "            test_loss += F.cross_entropy(output, target, reduction='sum').item()  # sum up batch loss\n",
    "            pred = output.argmax(dim=1, keepdim=True)  # get the index of the max log-probability\n",
    "            correct += pred.eq(target.view_as(pred)).sum().item()\n",
    "\n",
    "    test_loss /= len(test_loader.dataset)\n",
    "\n",
    "    print('\\nTest: average loss: {:.4f}, accuracy: {}/{} ({:.0f}%)'.format(\n",
    "        test_loss, correct, len(test_loader.dataset),\n",
    "        100. * correct / len(test_loader.dataset)))\n",
    "    return test_loss, correct / len(test_loader.dataset)\n"
   ],
   "outputs": [],
   "execution_count": 27
  },
  {
   "cell_type": "code",
   "metadata": {
    "ExecuteTime": {
     "end_time": "2024-05-23T11:32:19.714646Z",
     "start_time": "2024-05-23T11:32:18.791900Z"
    }
   },
   "source": [
    "from torchvision import datasets, transforms\n",
    "\n",
    "\n",
    "def teacher_main():\n",
    "    epochs = 10\n",
    "    batch_size = 64\n",
    "    torch.manual_seed(0)\n",
    "\n",
    "    device = torch.device(\"cuda\" if torch.cuda.is_available() else \"cpu\")\n",
    "\n",
    "\n",
    "    train_loader = torch.utils.data.DataLoader(\n",
    "        datasets.MNIST('../data/MNIST', train=True, download=True,\n",
    "                       transform=transforms.Compose([\n",
    "                           transforms.ToTensor(),\n",
    "                           transforms.Normalize((0.1307,), (0.3081,))\n",
    "                       ])),\n",
    "        batch_size=batch_size, shuffle=True)\n",
    "    test_loader = torch.utils.data.DataLoader(\n",
    "        datasets.MNIST('../data/MNIST', train=False, download=True, transform=transforms.Compose([\n",
    "            transforms.ToTensor(),\n",
    "            transforms.Normalize((0.1307,), (0.3081,))\n",
    "        ])),\n",
    "        batch_size=1000, shuffle=True)\n",
    "\n",
    "    model = TeacherNet().to(device)\n",
    "    optimizer = torch.optim.Adadelta(model.parameters())\n",
    "    \n",
    "    teacher_history = []\n",
    "\n",
    "    for epoch in range(1, epochs + 1):\n",
    "        train_teacher(model, device, train_loader, optimizer, epoch)\n",
    "        loss, acc = test_teacher(model, device, test_loader)\n",
    "        \n",
    "        teacher_history.append((loss, acc))\n",
    "\n",
    "    torch.save(model.state_dict(), \"teacher.pt\")\n",
    "    return model, teacher_history"
   ],
   "outputs": [],
   "execution_count": 28
  },
  {
   "cell_type": "code",
   "metadata": {
    "ExecuteTime": {
     "end_time": "2024-05-23T11:35:03.559783Z",
     "start_time": "2024-05-23T11:32:19.716648Z"
    }
   },
   "source": [
    "# 训练教师网络\n",
    "teacher_model, teacher_history = teacher_main()"
   ],
   "outputs": [
    {
     "name": "stderr",
     "output_type": "stream",
     "text": [
      "E:\\Anaconda3\\envs\\pytorch-gpu\\lib\\site-packages\\torch\\nn\\functional.py:1347: UserWarning: dropout2d: Received a 2-D input to dropout2d, which is deprecated and will result in an error in a future release. To retain the behavior and silence this warning, please use dropout instead. Note that dropout2d exists to provide channel-wise dropout on inputs with 2 spatial dimensions, a channel dimension, and an optional batch dimension (i.e. 3D or 4D inputs).\n",
      "  warnings.warn(warn_msg)\n"
     ]
    },
    {
     "name": "stdout",
     "output_type": "stream",
     "text": [
      "Train epoch 1: 60000/60000, [-------------------------------------------------->] 100%\n",
      "Test: average loss: 0.0464, accuracy: 9841/10000 (98%)\n",
      "Train epoch 2: 60000/60000, [-------------------------------------------------->] 100%\n",
      "Test: average loss: 0.0379, accuracy: 9871/10000 (99%)\n",
      "Train epoch 3: 60000/60000, [-------------------------------------------------->] 100%\n",
      "Test: average loss: 0.0331, accuracy: 9893/10000 (99%)\n",
      "Train epoch 4: 60000/60000, [-------------------------------------------------->] 100%\n",
      "Test: average loss: 0.0327, accuracy: 9896/10000 (99%)\n",
      "Train epoch 5: 60000/60000, [-------------------------------------------------->] 100%\n",
      "Test: average loss: 0.0341, accuracy: 9900/10000 (99%)\n",
      "Train epoch 6: 60000/60000, [-------------------------------------------------->] 100%\n",
      "Test: average loss: 0.0343, accuracy: 9900/10000 (99%)\n",
      "Train epoch 7: 60000/60000, [-------------------------------------------------->] 100%\n",
      "Test: average loss: 0.0319, accuracy: 9894/10000 (99%)\n",
      "Train epoch 8: 60000/60000, [-------------------------------------------------->] 100%\n",
      "Test: average loss: 0.0348, accuracy: 9911/10000 (99%)\n",
      "Train epoch 9: 60000/60000, [-------------------------------------------------->] 100%\n",
      "Test: average loss: 0.0288, accuracy: 9919/10000 (99%)\n",
      "Train epoch 10: 60000/60000, [-------------------------------------------------->] 100%\n",
      "Test: average loss: 0.0278, accuracy: 9927/10000 (99%)\n"
     ]
    }
   ],
   "execution_count": 29
  },
  {
   "cell_type": "markdown",
   "metadata": {},
   "source": "##### 看看老师的暗知识 "
  },
  {
   "cell_type": "code",
   "metadata": {
    "ExecuteTime": {
     "end_time": "2024-05-23T11:35:03.575819Z",
     "start_time": "2024-05-23T11:35:03.562783Z"
    }
   },
   "source": [
    "import numpy as np\n",
    "from matplotlib import pyplot as plt\n",
    "\n",
    "def softmax_t(x, t):\n",
    "    x_exp = np.exp(x / t)\n",
    "    return x_exp / np.sum(x_exp)\n",
    "\n",
    "test_loader_bs1 = torch.utils.data.DataLoader(\n",
    "    datasets.MNIST('../data/MNIST', train=False, download=True, transform=transforms.Compose([\n",
    "        transforms.ToTensor(),\n",
    "        transforms.Normalize((0.1307,), (0.3081,))\n",
    "    ])),\n",
    "    batch_size=1, shuffle=True)"
   ],
   "outputs": [],
   "execution_count": 30
  },
  {
   "cell_type": "code",
   "metadata": {
    "ExecuteTime": {
     "end_time": "2024-05-23T12:46:02.655342Z",
     "start_time": "2024-05-23T12:46:02.492345Z"
    }
   },
   "source": [
    "teacher_model.eval()\n",
    "with torch.no_grad():\n",
    "    data, target = next(iter(test_loader_bs1))\n",
    "    data, target = data.to('cuda'), target.to('cuda')\n",
    "    output = teacher_model(data)\n",
    "\n",
    "test_x = data.cpu().numpy()\n",
    "y_out = output.cpu().numpy()\n",
    "y_out = y_out[0, ::]\n",
    "print('Output (NO softmax):', y_out)\n",
    "\n",
    "\n",
    "\n",
    "plt.subplot(3, 1, 1)\n",
    "plt.imshow(test_x[0, 0, ::])\n",
    "\n",
    "plt.subplot(3, 1, 2)\n",
    "plt.bar(list(range(10)), softmax_t(y_out, 1), width=0.3)\n",
    "\n",
    "plt.subplot(3, 1, 3)\n",
    "plt.bar(list(range(10)), softmax_t(y_out, 10), width=0.3)\n",
    "plt.show()"
   ],
   "outputs": [
    {
     "ename": "NameError",
     "evalue": "name 'teacher_model' is not defined",
     "output_type": "error",
     "traceback": [
      "\u001B[1;31m---------------------------------------------------------------------------\u001B[0m",
      "\u001B[1;31mNameError\u001B[0m                                 Traceback (most recent call last)",
      "Input \u001B[1;32mIn [1]\u001B[0m, in \u001B[0;36m<cell line: 1>\u001B[1;34m()\u001B[0m\n\u001B[1;32m----> 1\u001B[0m \u001B[43mteacher_model\u001B[49m\u001B[38;5;241m.\u001B[39meval()\n\u001B[0;32m      2\u001B[0m \u001B[38;5;28;01mwith\u001B[39;00m torch\u001B[38;5;241m.\u001B[39mno_grad():\n\u001B[0;32m      3\u001B[0m     data, target \u001B[38;5;241m=\u001B[39m \u001B[38;5;28mnext\u001B[39m(\u001B[38;5;28miter\u001B[39m(test_loader_bs1))\n",
      "\u001B[1;31mNameError\u001B[0m: name 'teacher_model' is not defined"
     ]
    }
   ],
   "execution_count": 1
  },
  {
   "cell_type": "code",
   "metadata": {
    "ExecuteTime": {
     "end_time": "2024-05-23T11:35:03.892791Z",
     "start_time": "2024-05-23T11:35:03.877783Z"
    }
   },
   "source": [],
   "outputs": [],
   "execution_count": 31
  },
  {
   "cell_type": "markdown",
   "metadata": {},
   "source": [
    "# 让老师教学生网络 "
   ]
  },
  {
   "cell_type": "code",
   "metadata": {
    "ExecuteTime": {
     "end_time": "2024-05-23T11:35:03.907792Z",
     "start_time": "2024-05-23T11:35:03.893805Z"
    }
   },
   "source": [
    "class StudentNet(nn.Module):\n",
    "    def __init__(self):\n",
    "        super(StudentNet, self).__init__()\n",
    "        self.fc1 = nn.Linear(28 * 28, 128)\n",
    "        self.fc2 = nn.Linear(128, 64)\n",
    "        self.fc3 = nn.Linear(64, 10)\n",
    "\n",
    "    def forward(self, x):\n",
    "        x = torch.flatten(x, 1)\n",
    "        x = F.relu(self.fc1(x))\n",
    "        x = F.relu(self.fc2(x))\n",
    "        output = F.relu(self.fc3(x))\n",
    "        return output"
   ],
   "outputs": [],
   "execution_count": 32
  },
  {
   "cell_type": "markdown",
   "metadata": {},
   "source": [
    "### 关键，定义kd的loss "
   ]
  },
  {
   "cell_type": "code",
   "metadata": {
    "ExecuteTime": {
     "end_time": "2024-05-23T11:35:03.923783Z",
     "start_time": "2024-05-23T11:35:03.908783Z"
    }
   },
   "source": [
    "def distillation(y, labels, teacher_scores, temp, alpha):\n",
    "    return nn.KLDivLoss()(F.log_softmax(y / temp, dim=1), F.softmax(teacher_scores / temp, dim=1)) * (\n",
    "            temp * temp * 2.0 * alpha) + F.cross_entropy(y, labels) * (1. - alpha)\n"
   ],
   "outputs": [],
   "execution_count": 33
  },
  {
   "cell_type": "code",
   "metadata": {
    "ExecuteTime": {
     "end_time": "2024-05-23T11:35:03.939784Z",
     "start_time": "2024-05-23T11:35:03.924782Z"
    }
   },
   "source": [
    "def train_student_kd(model, device, train_loader, optimizer, epoch):\n",
    "    model.train()\n",
    "    trained_samples = 0\n",
    "    for batch_idx, (data, target) in enumerate(train_loader):\n",
    "        data, target = data.to(device), target.to(device)\n",
    "        optimizer.zero_grad()\n",
    "        output = model(data)\n",
    "        teacher_output = teacher_model(data)\n",
    "        teacher_output = teacher_output.detach()  # 切断老师网络的反向传播\n",
    "        loss = distillation(output, target, teacher_output, temp=5.0, alpha=0.7)\n",
    "        loss.backward()\n",
    "        optimizer.step()\n",
    "\n",
    "        trained_samples += len(data)\n",
    "        progress = math.ceil(batch_idx / len(train_loader) * 50)\n",
    "        print(\"\\rTrain epoch %d: %d/%d, [%-51s] %d%%\" %\n",
    "              (epoch, trained_samples, len(train_loader.dataset),\n",
    "               '-' * progress + '>', progress * 2), end='')\n",
    "\n",
    "\n",
    "def test_student_kd(model, device, test_loader):\n",
    "    model.eval()\n",
    "    test_loss = 0\n",
    "    correct = 0\n",
    "    with torch.no_grad():\n",
    "        for data, target in test_loader:\n",
    "            data, target = data.to(device), target.to(device)\n",
    "            output = model(data)\n",
    "            test_loss += F.cross_entropy(output, target, reduction='sum').item()  # sum up batch loss\n",
    "            pred = output.argmax(dim=1, keepdim=True)  # get the index of the max log-probability\n",
    "            correct += pred.eq(target.view_as(pred)).sum().item()\n",
    "\n",
    "    test_loss /= len(test_loader.dataset)\n",
    "\n",
    "    print('\\nTest: average loss: {:.4f}, accuracy: {}/{} ({:.0f}%)'.format(\n",
    "        test_loss, correct, len(test_loader.dataset),\n",
    "        100. * correct / len(test_loader.dataset)))\n",
    "    return test_loss, correct / len(test_loader.dataset)"
   ],
   "outputs": [],
   "execution_count": 34
  },
  {
   "cell_type": "code",
   "metadata": {
    "ExecuteTime": {
     "end_time": "2024-05-23T11:35:03.955796Z",
     "start_time": "2024-05-23T11:35:03.940784Z"
    }
   },
   "source": [
    "def student_kd_main():\n",
    "    epochs = 10\n",
    "    batch_size = 64\n",
    "    torch.manual_seed(0)\n",
    "\n",
    "    device = torch.device(\"cuda\" if torch.cuda.is_available() else \"cpu\")\n",
    "\n",
    "    train_loader = torch.utils.data.DataLoader(\n",
    "        datasets.MNIST('../data/MNIST', train=True, download=True,\n",
    "                       transform=transforms.Compose([\n",
    "                           transforms.ToTensor(),\n",
    "                           transforms.Normalize((0.1307,), (0.3081,))\n",
    "                       ])),\n",
    "        batch_size=batch_size, shuffle=True)\n",
    "    test_loader = torch.utils.data.DataLoader(\n",
    "        datasets.MNIST('../data/MNIST', train=False, download=True, transform=transforms.Compose([\n",
    "            transforms.ToTensor(),\n",
    "            transforms.Normalize((0.1307,), (0.3081,))\n",
    "        ])),\n",
    "        batch_size=1000, shuffle=True)\n",
    "\n",
    "    model = StudentNet().to(device)\n",
    "    optimizer = torch.optim.Adadelta(model.parameters())\n",
    "    \n",
    "    student_history = []\n",
    "    for epoch in range(1, epochs + 1):\n",
    "        train_student_kd(model, device, train_loader, optimizer, epoch)\n",
    "        loss, acc = test_student_kd(model, device, test_loader)\n",
    "        student_history.append((loss, acc))\n",
    "\n",
    "    torch.save(model.state_dict(), \"student_kd.pt\")\n",
    "    return model, student_history"
   ],
   "outputs": [],
   "execution_count": 35
  },
  {
   "cell_type": "code",
   "metadata": {
    "ExecuteTime": {
     "end_time": "2024-05-23T11:37:45.627630Z",
     "start_time": "2024-05-23T11:35:03.958783Z"
    }
   },
   "source": [
    "student_kd_model, student_kd_history = student_kd_main()"
   ],
   "outputs": [
    {
     "name": "stderr",
     "output_type": "stream",
     "text": [
      "E:\\Anaconda3\\envs\\pytorch-gpu\\lib\\site-packages\\torch\\nn\\functional.py:2949: UserWarning: reduction: 'mean' divides the total loss by both the batch size and the support size.'batchmean' divides only by the batch size, and aligns with the KL div math definition.'mean' will be changed to behave the same as 'batchmean' in the next major release.\n",
      "  warnings.warn(\n"
     ]
    },
    {
     "name": "stdout",
     "output_type": "stream",
     "text": [
      "Train epoch 1: 60000/60000, [-------------------------------------------------->] 100%\n",
      "Test: average loss: 0.1517, accuracy: 9679/10000 (97%)\n",
      "Train epoch 2: 60000/60000, [-------------------------------------------------->] 100%\n",
      "Test: average loss: 0.1283, accuracy: 9723/10000 (97%)\n",
      "Train epoch 3: 60000/60000, [-------------------------------------------------->] 100%\n",
      "Test: average loss: 0.0909, accuracy: 9804/10000 (98%)\n",
      "Train epoch 4: 60000/60000, [-------------------------------------------------->] 100%\n",
      "Test: average loss: 0.0857, accuracy: 9801/10000 (98%)\n",
      "Train epoch 5: 60000/60000, [-------------------------------------------------->] 100%\n",
      "Test: average loss: 0.0674, accuracy: 9834/10000 (98%)\n",
      "Train epoch 6: 60000/60000, [-------------------------------------------------->] 100%\n",
      "Test: average loss: 0.0759, accuracy: 9826/10000 (98%)\n",
      "Train epoch 7: 60000/60000, [-------------------------------------------------->] 100%\n",
      "Test: average loss: 0.0672, accuracy: 9839/10000 (98%)\n",
      "Train epoch 8: 60000/60000, [-------------------------------------------------->] 100%\n",
      "Test: average loss: 0.0677, accuracy: 9841/10000 (98%)\n",
      "Train epoch 9: 60000/60000, [-------------------------------------------------->] 100%\n",
      "Test: average loss: 0.0702, accuracy: 9840/10000 (98%)\n",
      "Train epoch 10: 60000/60000, [-------------------------------------------------->] 100%\n",
      "Test: average loss: 0.0642, accuracy: 9848/10000 (98%)\n"
     ]
    }
   ],
   "execution_count": 36
  },
  {
   "cell_type": "code",
   "metadata": {
    "ExecuteTime": {
     "end_time": "2024-05-23T11:37:45.643631Z",
     "start_time": "2024-05-23T11:37:45.628631Z"
    }
   },
   "source": [
    "## 让学生自己学，不使用KD\n",
    "def train_student(model, device, train_loader, optimizer, epoch):\n",
    "    model.train()\n",
    "    trained_samples = 0\n",
    "    for batch_idx, (data, target) in enumerate(train_loader):\n",
    "        data, target = data.to(device), target.to(device)\n",
    "        optimizer.zero_grad()\n",
    "        output = model(data)\n",
    "        loss = F.cross_entropy(output, target)\n",
    "        loss.backward()\n",
    "        optimizer.step()\n",
    "\n",
    "        trained_samples += len(data)\n",
    "        progress = math.ceil(batch_idx / len(train_loader) * 50)\n",
    "        print(\"\\rTrain epoch %d: %d/%d, [%-51s] %d%%\" %\n",
    "              (epoch, trained_samples, len(train_loader.dataset),\n",
    "               '-' * progress + '>', progress * 2), end='')\n",
    "\n",
    "\n",
    "def test_student(model, device, test_loader):\n",
    "    model.eval()\n",
    "    test_loss = 0\n",
    "    correct = 0\n",
    "    with torch.no_grad():\n",
    "        for data, target in test_loader:\n",
    "            data, target = data.to(device), target.to(device)\n",
    "            output = model(data)\n",
    "            test_loss += F.cross_entropy(output, target, reduction='sum').item()  # sum up batch loss\n",
    "            pred = output.argmax(dim=1, keepdim=True)  # get the index of the max log-probability\n",
    "            correct += pred.eq(target.view_as(pred)).sum().item()\n",
    "\n",
    "    test_loss /= len(test_loader.dataset)\n",
    "\n",
    "    print('\\nTest: average loss: {:.4f}, accuracy: {}/{} ({:.0f}%)'.format(\n",
    "        test_loss, correct, len(test_loader.dataset),\n",
    "        100. * correct / len(test_loader.dataset)))\n",
    "    return test_loss, correct / len(test_loader.dataset)"
   ],
   "outputs": [],
   "execution_count": 37
  },
  {
   "cell_type": "code",
   "metadata": {
    "ExecuteTime": {
     "end_time": "2024-05-23T11:37:45.658630Z",
     "start_time": "2024-05-23T11:37:45.644631Z"
    }
   },
   "source": [
    "def student_main():\n",
    "    epochs = 10\n",
    "    batch_size = 64\n",
    "    torch.manual_seed(0)\n",
    "\n",
    "    device = torch.device(\"cuda\" if torch.cuda.is_available() else \"cpu\")\n",
    "\n",
    "    train_loader = torch.utils.data.DataLoader(\n",
    "        datasets.MNIST('../data/MNIST', train=True, download=True,\n",
    "                       transform=transforms.Compose([\n",
    "                           transforms.ToTensor(),\n",
    "                           transforms.Normalize((0.1307,), (0.3081,))\n",
    "                       ])),\n",
    "        batch_size=batch_size, shuffle=True)\n",
    "    test_loader = torch.utils.data.DataLoader(\n",
    "        datasets.MNIST('../data/MNIST', train=False, download=True, transform=transforms.Compose([\n",
    "            transforms.ToTensor(),\n",
    "            transforms.Normalize((0.1307,), (0.3081,))\n",
    "        ])),\n",
    "        batch_size=1000, shuffle=True)\n",
    "\n",
    "    model = StudentNet().to(device)\n",
    "    optimizer = torch.optim.Adadelta(model.parameters())\n",
    "    \n",
    "    student_history = []\n",
    "    \n",
    "    for epoch in range(1, epochs + 1):\n",
    "        train_student(model, device, train_loader, optimizer, epoch)\n",
    "        loss, acc = test_student(model, device, test_loader)\n",
    "        student_history.append((loss, acc))\n",
    "\n",
    "    torch.save(model.state_dict(), \"student.pt\")\n",
    "    return model, student_history"
   ],
   "outputs": [],
   "execution_count": 38
  },
  {
   "cell_type": "code",
   "metadata": {
    "ExecuteTime": {
     "end_time": "2024-05-23T11:40:21.654515Z",
     "start_time": "2024-05-23T11:37:45.659630Z"
    }
   },
   "source": [
    "student_simple_model, student_simple_history = student_main()"
   ],
   "outputs": [
    {
     "name": "stdout",
     "output_type": "stream",
     "text": [
      "Train epoch 1: 60000/60000, [-------------------------------------------------->] 100%\n",
      "Test: average loss: 0.1225, accuracy: 9620/10000 (96%)\n",
      "Train epoch 2: 60000/60000, [-------------------------------------------------->] 100%\n",
      "Test: average loss: 0.0963, accuracy: 9721/10000 (97%)\n",
      "Train epoch 3: 60000/60000, [-------------------------------------------------->] 100%\n",
      "Test: average loss: 0.0950, accuracy: 9740/10000 (97%)\n",
      "Train epoch 4: 60000/60000, [-------------------------------------------------->] 100%\n",
      "Test: average loss: 0.1005, accuracy: 9757/10000 (98%)\n",
      "Train epoch 5: 60000/60000, [-------------------------------------------------->] 100%\n",
      "Test: average loss: 0.0832, accuracy: 9807/10000 (98%)\n",
      "Train epoch 6: 60000/60000, [-------------------------------------------------->] 100%\n",
      "Test: average loss: 0.1079, accuracy: 9786/10000 (98%)\n",
      "Train epoch 7: 60000/60000, [-------------------------------------------------->] 100%\n",
      "Test: average loss: 0.1027, accuracy: 9791/10000 (98%)\n",
      "Train epoch 8: 60000/60000, [-------------------------------------------------->] 100%\n",
      "Test: average loss: 0.1034, accuracy: 9796/10000 (98%)\n",
      "Train epoch 9: 60000/60000, [-------------------------------------------------->] 100%\n",
      "Test: average loss: 0.1121, accuracy: 9779/10000 (98%)\n",
      "Train epoch 10: 60000/60000, [-------------------------------------------------->] 100%\n",
      "Test: average loss: 0.1345, accuracy: 9781/10000 (98%)\n"
     ]
    }
   ],
   "execution_count": 39
  },
  {
   "cell_type": "code",
   "metadata": {
    "ExecuteTime": {
     "end_time": "2024-05-23T11:40:21.669514Z",
     "start_time": "2024-05-23T11:40:21.655543Z"
    }
   },
   "source": [
    "import matplotlib.pyplot as plt"
   ],
   "outputs": [],
   "execution_count": 40
  },
  {
   "cell_type": "code",
   "metadata": {
    "ExecuteTime": {
     "end_time": "2024-05-23T11:40:22.018897Z",
     "start_time": "2024-05-23T11:40:21.670517Z"
    }
   },
   "source": [
    "epochs = 10\n",
    "x = list(range(1, epochs+1))\n",
    "\n",
    "plt.subplot(2, 1, 1)\n",
    "plt.plot(x, [teacher_history[i][1] for i in range(epochs)], label='teacher')\n",
    "plt.plot(x, [student_kd_history[i][1] for i in range(epochs)], label='student with KD')\n",
    "plt.plot(x, [student_simple_history[i][1] for i in range(epochs)], label='student without KD')\n",
    "\n",
    "plt.title('Test accuracy')\n",
    "plt.legend()\n",
    "\n",
    "\n",
    "plt.subplot(2, 1, 2)\n",
    "plt.plot(x, [teacher_history[i][0] for i in range(epochs)], label='teacher')\n",
    "plt.plot(x, [student_kd_history[i][0] for i in range(epochs)], label='student with KD')\n",
    "plt.plot(x, [student_simple_history[i][0] for i in range(epochs)], label='student without KD')\n",
    "\n",
    "plt.title('Test loss')\n",
    "plt.legend()\n",
    "\n",
    "\n"
   ],
   "outputs": [
    {
     "data": {
      "text/plain": [
       "<matplotlib.legend.Legend at 0x21d57b3d430>"
      ]
     },
     "execution_count": 41,
     "metadata": {},
     "output_type": "execute_result"
    },
    {
     "data": {
      "text/plain": [
       "<Figure size 640x480 with 2 Axes>"
      ],
      "image/png": "[encoded data removed]"
     },
     "metadata": {},
     "output_type": "display_data"
    }
   ],
   "execution_count": 41
  },
  {
   "metadata": {
    "ExecuteTime": {
     "end_time": "2024-05-23T11:59:36.644845Z",
     "start_time": "2024-05-23T11:59:36.567845Z"
    }
   },
   "cell_type": "code",
   "source": "print(student_kd_model.state_dict())",
   "outputs": [
    {
     "name": "stdout",
     "output_type": "stream",
     "text": [
      "OrderedDict([('fc1.weight', tensor([[ 0.0246,  0.0440, -0.0046,  ...,  0.0468,  0.0286,  0.0269],\n",
      "        [-0.0131, -0.0083, -0.0038,  ..., -0.0136,  0.0007, -0.0233],\n",
      "        [ 0.0058,  0.0409, -0.0073,  ...,  0.0056,  0.0272,  0.0340],\n",
      "        ...,\n",
      "        [-0.0090, -0.0403, -0.0023,  ..., -0.0144, -0.0072,  0.0192],\n",
      "        [ 0.0372,  0.0384,  0.0541,  ...,  0.0720,  0.0281,  0.0447],\n",
      "        [ 0.0348,  0.0105,  0.0164,  ...,  0.0324,  0.0389, -0.0066]],\n",
      "       device='cuda:0')), ('fc1.bias', tensor([-0.0525,  0.0017, -0.0013, -0.0124,  0.0697, -0.0133, -0.0141,  0.0482,\n",
      "        -0.0081, -0.0173, -0.0208, -0.0261, -0.0113, -0.0282, -0.0024, -0.0147,\n",
      "        -0.0240,  0.0192,  0.0006,  0.0004, -0.0609, -0.0152, -0.0558, -0.0329,\n",
      "         0.0288, -0.0422,  0.0404, -0.0161,  0.0190, -0.0139, -0.0239, -0.0201,\n",
      "        -0.0087, -0.0424,  0.0033,  0.0135, -0.0569, -0.0310, -0.0186, -0.0361,\n",
      "        -0.0111, -0.0145,  0.1311, -0.0233,  0.0317,  0.0101, -0.0427, -0.0399,\n",
      "        -0.0226,  0.0453,  0.0381, -0.0350, -0.0242,  0.0335,  0.0006, -0.0021,\n",
      "        -0.0612, -0.0148, -0.0472, -0.0047, -0.0006, -0.0752, -0.0646, -0.0055,\n",
      "        -0.0920, -0.0128, -0.0196, -0.0329,  0.0179, -0.0403,  0.0216, -0.0387,\n",
      "        -0.0205,  0.0124,  0.0519, -0.0367,  0.0325,  0.0105,  0.0087, -0.0038,\n",
      "         0.0196, -0.0595, -0.0057,  0.0100,  0.0034, -0.0303, -0.0287,  0.0304,\n",
      "         0.0038, -0.0186, -0.0102, -0.0323, -0.0703, -0.0186, -0.0503, -0.0323,\n",
      "        -0.0059, -0.0045,  0.0034,  0.0433, -0.0067,  0.0544, -0.0511, -0.0025,\n",
      "        -0.0694, -0.0198, -0.0197, -0.0125,  0.0119,  0.0150, -0.0086,  0.0362,\n",
      "        -0.0095,  0.0206, -0.0066,  0.0299, -0.0204,  0.0194, -0.0040,  0.0037,\n",
      "         0.0089, -0.0436, -0.0208, -0.0191,  0.0079,  0.0571, -0.0740,  0.0338],\n",
      "       device='cuda:0')), ('fc2.weight', tensor([[-0.0497, -0.0447,  0.0750,  ..., -0.0613, -0.2099, -0.2668],\n",
      "        [-0.1434, -0.0639,  0.0506,  ..., -0.0904,  0.1503,  0.1528],\n",
      "        [ 0.0400, -0.0405,  0.0545,  ..., -0.1669, -0.1430, -0.0306],\n",
      "        ...,\n",
      "        [-0.1026, -0.0572, -0.0682,  ...,  0.2587,  0.1235,  0.1276],\n",
      "        [-0.0652, -0.0992, -0.2088,  ...,  0.2558, -0.2118, -0.0598],\n",
      "        [-0.0746,  0.0402,  0.0287,  ...,  0.1994,  0.2699, -0.0368]],\n",
      "       device='cuda:0')), ('fc2.bias', tensor([ 0.3653,  0.2109,  0.0459,  0.1030,  0.2791,  0.1684,  0.1158, -0.0818,\n",
      "         0.1541, -0.0919,  0.1279,  0.0966,  0.1897,  0.1824,  0.0283,  0.1131,\n",
      "         0.3402,  0.0052,  0.0318, -0.0364,  0.2350, -0.0679, -0.2309,  0.2013,\n",
      "         0.0549, -0.1209,  0.1149,  0.0395,  0.0191,  0.0494,  0.0013,  0.3383,\n",
      "         0.1712,  0.0772,  0.1561,  0.1312, -0.1153,  0.2372, -0.1389, -0.0503,\n",
      "         0.1726,  0.1171,  0.0180,  0.4680,  0.1662,  0.1521,  0.0899,  0.0305,\n",
      "         0.0925, -0.0794,  0.0598,  0.1471,  0.1606, -0.1393,  0.0548,  0.3327,\n",
      "         0.2535,  0.1677,  0.3094,  0.3640,  0.2382,  0.0538,  0.1682,  0.2031],\n",
      "       device='cuda:0')), ('fc3.weight', tensor([[-8.7769e-02,  1.6659e-01, -1.7386e-01, -1.0991e-01,  1.6560e-02,\n",
      "          2.3520e-01,  5.3892e-03, -1.8920e-02,  6.9328e-02,  1.8457e-01,\n",
      "          4.5311e-02, -1.0174e-01,  1.0046e-01,  8.9756e-02, -2.3718e-02,\n",
      "          9.1052e-02,  1.1483e-01, -1.2271e-02,  2.0485e-01, -3.0021e-02,\n",
      "          1.8637e-01,  1.3163e-02,  8.8995e-03, -1.1987e-01,  1.6036e-01,\n",
      "         -7.6032e-04,  1.1757e-01,  8.8206e-02,  9.6862e-03,  1.7059e-01,\n",
      "          2.5071e-02, -2.3266e-01, -1.8552e-01, -6.1141e-02,  2.2879e-01,\n",
      "          2.9284e-02, -1.0817e-01,  6.1378e-02,  1.1802e-01,  6.2817e-02,\n",
      "         -1.1508e-01, -6.4979e-02,  2.1345e-01,  1.8726e-02, -2.8633e-02,\n",
      "          1.5083e-01,  2.5179e-01,  9.1433e-02,  9.7010e-02, -1.0340e-01,\n",
      "          2.3199e-02,  8.3025e-02, -9.1919e-02,  1.7811e-01,  1.1801e-01,\n",
      "          1.9741e-01, -7.2482e-02,  2.2132e-01,  7.1595e-02,  1.5810e-01,\n",
      "         -1.0504e-01,  1.2067e-01,  1.7320e-01,  1.1433e-01],\n",
      "        [ 1.8199e-01, -1.6677e-01,  1.2458e-01, -8.0923e-02, -2.1225e-01,\n",
      "         -1.2318e-02,  1.4557e-01,  2.2052e-01, -3.8337e-02,  4.3848e-02,\n",
      "          1.1002e-01,  8.9242e-02, -1.0112e-02, -3.8585e-02, -1.5618e-01,\n",
      "         -7.1286e-03, -1.9235e-01, -2.3375e-02,  1.8603e-01,  2.8332e-01,\n",
      "          1.1049e-01, -8.9412e-02,  2.0510e-01,  4.2690e-02, -9.1769e-02,\n",
      "          2.0622e-01,  2.9898e-01,  1.5393e-01,  4.5979e-02, -1.7184e-01,\n",
      "          2.8866e-01,  1.0011e-01,  6.9164e-02,  3.2444e-01,  1.4694e-02,\n",
      "         -8.6122e-02,  1.4899e-01, -2.3282e-01,  1.5863e-02, -3.0019e-01,\n",
      "         -4.3317e-03,  1.8148e-01,  1.1522e-01, -1.0289e-01,  1.9660e-01,\n",
      "          1.3149e-01,  3.4321e-02,  1.0306e-01, -3.8902e-02,  9.2294e-02,\n",
      "          2.1915e-01,  1.0811e-02, -1.6047e-01,  1.9469e-01,  1.1043e-01,\n",
      "         -3.7760e-02,  7.1958e-02, -2.7569e-01, -5.0656e-02, -9.8122e-02,\n",
      "          1.3880e-01, -8.8809e-02,  1.1644e-01,  1.4338e-01],\n",
      "        [ 2.4356e-02, -1.1473e-01,  2.6579e-01,  5.5874e-02, -1.4381e-01,\n",
      "         -2.4683e-01,  1.2724e-01,  1.8994e-01,  3.6825e-02,  2.2626e-01,\n",
      "          1.7948e-01, -9.3670e-02,  1.7184e-01,  1.8106e-01,  2.4469e-01,\n",
      "          1.5521e-02,  1.5701e-01,  1.5649e-01, -1.6065e-01,  1.0992e-01,\n",
      "         -1.3813e-01,  1.2028e-01, -2.6406e-02,  8.7030e-02,  1.0585e-01,\n",
      "          5.2407e-02, -7.3587e-03,  1.6310e-01, -4.5011e-02, -1.3616e-01,\n",
      "          1.8088e-01,  1.7632e-01,  4.9512e-02,  1.5495e-01,  1.8783e-01,\n",
      "          2.5039e-01, -1.4346e-01, -1.2452e-01,  3.6907e-02,  3.8493e-02,\n",
      "          4.4017e-02, -7.6318e-02,  9.3952e-02, -2.0934e-01,  8.7029e-02,\n",
      "          2.1209e-01,  1.8419e-01, -1.6015e-01, -1.4832e-01,  3.4506e-02,\n",
      "         -1.6286e-01, -3.0884e-01,  1.7974e-01,  1.3078e-01, -2.8779e-01,\n",
      "          1.4049e-01,  1.9147e-01, -1.6288e-01,  1.8721e-01, -2.2404e-01,\n",
      "         -1.0124e-02,  1.7663e-01, -2.7712e-02,  3.6100e-03],\n",
      "        [-3.0780e-02,  8.7084e-02, -1.6358e-01,  5.1726e-02, -4.5938e-01,\n",
      "         -1.5130e-01,  6.6998e-02,  1.1969e-01, -1.7355e-01,  1.5703e-01,\n",
      "          1.8822e-01,  1.6535e-01,  1.4808e-01, -2.1485e-01,  1.1012e-01,\n",
      "          2.0223e-01, -6.2800e-02,  7.1221e-02,  3.5553e-02, -1.9761e-01,\n",
      "         -1.8494e-01,  2.5574e-01,  2.7881e-01, -1.1845e-01,  1.3554e-01,\n",
      "          1.3651e-01, -1.5254e-01,  2.1982e-01, -5.3755e-01,  4.6507e-03,\n",
      "         -8.9985e-02,  2.6764e-01, -3.2438e-01, -1.5900e-01,  2.4311e-01,\n",
      "          7.7337e-02,  1.9340e-01, -8.7706e-02, -5.2969e-02,  1.1489e-01,\n",
      "         -7.9410e-02,  7.9315e-02, -1.0079e-01, -6.4219e-01,  2.1140e-01,\n",
      "         -1.6107e-04, -1.4430e-01, -1.0336e-01,  2.0660e-01, -2.1472e-02,\n",
      "          1.5388e-01,  2.5451e-01,  1.5458e-01,  6.0148e-02, -3.5440e-01,\n",
      "          2.7071e-01,  2.0130e-01, -5.5292e-03,  2.6048e-01, -9.7685e-02,\n",
      "          3.6571e-01,  4.0023e-02,  5.0588e-02, -1.9786e-01],\n",
      "        [ 9.8748e-02, -1.9774e-01, -3.3784e-02,  1.2613e-01,  1.6917e-01,\n",
      "          3.0161e-02,  5.1151e-02,  1.3330e-01,  2.9297e-02,  8.2870e-02,\n",
      "         -1.5744e-01,  1.8219e-01,  4.5436e-02,  1.4619e-01, -8.8765e-02,\n",
      "          7.4047e-02,  8.4840e-02, -2.6156e-01, -2.9117e-01,  4.3218e-02,\n",
      "          1.5875e-01,  4.5834e-03, -1.1576e-01,  4.4948e-01, -1.9228e-01,\n",
      "          1.2649e-01,  9.1111e-02,  1.3803e-01,  4.0671e-03, -1.8028e-01,\n",
      "          1.1083e-01,  8.9917e-02,  2.0742e-01,  1.6923e-01, -6.1147e-02,\n",
      "          1.4445e-01, -1.0452e-01,  2.5952e-01,  9.2458e-02,  9.2403e-02,\n",
      "          2.0647e-01,  1.8131e-01,  2.0488e-01, -1.3980e-01,  9.0914e-02,\n",
      "         -3.3347e-03,  1.3318e-01, -1.4539e-01,  4.6983e-02, -1.5815e-01,\n",
      "          1.2449e-01, -2.2686e-02,  2.2434e-01, -1.1754e-01, -1.4368e-01,\n",
      "         -8.8999e-02, -6.8309e-02,  7.7246e-02, -6.5927e-02, -1.4349e-01,\n",
      "         -8.1236e-02,  8.3178e-02,  4.9809e-02,  4.5255e-01],\n",
      "        [-9.5474e-02, -9.7677e-02,  8.7117e-03,  1.3828e-01, -4.8833e-02,\n",
      "          4.1245e-01, -1.3592e-01, -1.8278e-01, -5.3009e-02,  2.8378e-02,\n",
      "         -1.8358e-01,  1.7726e-01, -1.3131e-02, -2.3198e-01,  2.2446e-01,\n",
      "          1.7646e-01,  1.9902e-01,  1.3951e-01,  1.2563e-01,  8.9793e-02,\n",
      "          1.5773e-01,  2.5761e-01, -1.5329e-01,  7.9531e-02, -1.1404e-02,\n",
      "         -9.7189e-02, -1.5092e-01,  2.3206e-01,  2.5394e-01,  1.4028e-02,\n",
      "          1.6999e-01,  2.5834e-01,  3.4902e-02,  1.2787e-01,  1.1076e-01,\n",
      "         -1.0823e-01,  1.2441e-01,  7.6329e-02, -9.1137e-02, -2.0021e-01,\n",
      "          3.4183e-02,  2.4875e-01, -1.6150e-01, -2.2429e-01, -1.0163e-01,\n",
      "         -4.2479e-02, -3.4491e-01, -1.1933e-01,  1.5257e-01, -2.0965e-01,\n",
      "          1.0311e-01,  3.6787e-01, -2.3589e-01, -1.6862e-03,  5.5820e-02,\n",
      "          2.0892e-01, -4.5730e-03, -1.9193e-01, -2.0906e-01,  1.1650e-01,\n",
      "          2.1370e-01, -9.2592e-02,  1.6041e-01, -1.4437e-01],\n",
      "        [-1.8536e-01,  1.3804e-01,  4.0664e-02, -7.6358e-02,  4.4017e-02,\n",
      "          2.2690e-01,  5.0894e-01, -1.5229e-01, -8.6784e-02,  2.3929e-02,\n",
      "         -2.2201e-01, -3.0433e-03,  5.6165e-02,  2.5884e-02,  2.6940e-01,\n",
      "          1.3789e-01, -1.3377e-02,  4.5841e-02, -5.9168e-02,  2.0002e-01,\n",
      "          1.2344e-01,  5.4899e-02, -9.2589e-02,  3.0147e-01, -1.5425e-01,\n",
      "         -8.2546e-03,  3.9032e-01,  7.4701e-02,  9.7583e-02,  2.4779e-01,\n",
      "          1.1322e-01,  1.5124e-03, -1.1991e-02,  2.2285e-02,  6.9458e-02,\n",
      "         -1.1578e-01, -6.3649e-02,  1.9788e-01, -2.5963e-01,  9.6217e-02,\n",
      "          1.8207e-01,  2.3391e-01, -1.6420e-01,  1.2625e-01,  4.9267e-04,\n",
      "          1.7674e-01,  1.2287e-01, -3.1461e-02,  1.6918e-01, -1.0657e-01,\n",
      "          1.1448e-01,  2.0783e-01, -2.4290e-02,  7.9124e-02,  7.7977e-02,\n",
      "          1.7178e-01,  1.0898e-01, -5.9235e-02, -1.9615e-01,  1.3852e-01,\n",
      "          1.6192e-01, -6.6297e-03, -6.5736e-02, -7.0113e-02],\n",
      "        [ 3.8326e-02, -1.6951e-01,  4.4609e-02,  3.2378e-01, -3.5410e-01,\n",
      "          3.4066e-02, -1.7716e-01,  1.5353e-01,  1.6014e-01,  3.9016e-02,\n",
      "          1.6173e-01,  2.1079e-01, -1.5257e-01, -2.0355e-01,  1.7614e-02,\n",
      "          2.2128e-01,  1.3513e-01,  1.6552e-01,  1.9857e-02, -2.1333e-01,\n",
      "         -7.4227e-02, -1.0873e-01,  3.1718e-02, -3.7108e-02,  1.0797e-01,\n",
      "          2.5489e-01, -1.8953e-01,  1.1312e-01, -6.1231e-02, -2.1841e-01,\n",
      "          2.8608e-01,  1.2757e-03,  7.4827e-02,  4.6006e-02,  1.0890e-01,\n",
      "          1.7949e-01,  4.0795e-02, -2.0610e-01, -1.2750e-01,  1.4643e-01,\n",
      "          2.7147e-01,  6.3198e-02,  1.5171e-01, -4.1129e-01, -1.6626e-02,\n",
      "          2.9397e-02, -1.0495e-01,  2.5908e-01, -3.2886e-01,  1.9831e-01,\n",
      "         -8.4356e-02,  3.2813e-02,  2.3760e-01,  1.4389e-01, -1.8874e-01,\n",
      "         -4.4411e-02, -6.8021e-03, -1.1588e-01,  2.0340e-01, -2.5864e-01,\n",
      "          1.5200e-01,  2.8315e-01,  1.9155e-01, -3.1537e-01],\n",
      "        [ 2.7987e-01, -3.0596e-01,  1.4526e-01, -1.2817e-01, -8.1089e-02,\n",
      "         -9.2583e-02, -6.2598e-03,  9.5461e-02,  1.7043e-01, -1.5305e-01,\n",
      "          1.9972e-02,  1.6711e-01,  8.4362e-02, -1.3013e-01,  3.6786e-02,\n",
      "          1.4714e-01,  2.1847e-01,  7.7410e-02, -1.0537e-01,  2.9775e-02,\n",
      "          6.5883e-02, -2.2335e-01, -3.6363e-01,  8.6184e-02,  1.2871e-01,\n",
      "         -4.4773e-02,  9.8172e-02, -1.2177e-01, -1.1093e-01, -3.5690e-02,\n",
      "         -9.5036e-02,  2.0678e-01,  1.6706e-01, -3.9663e-03,  7.0318e-02,\n",
      "          9.4433e-02, -1.5790e-01,  1.9931e-01,  8.2753e-02,  2.3202e-02,\n",
      "          3.5266e-02,  1.4882e-01, -4.7475e-03,  4.7007e-01,  1.0243e-01,\n",
      "          1.7127e-01, -1.5250e-01, -2.3845e-01, -8.0691e-02, -1.0323e-01,\n",
      "          9.7752e-02,  1.3700e-01,  4.2745e-02, -3.2739e-03, -2.3916e-01,\n",
      "          1.9511e-01,  1.6655e-01, -1.2765e-02,  2.2818e-01,  3.0030e-01,\n",
      "          2.5117e-01,  2.2580e-01,  1.5186e-01, -2.7021e-02],\n",
      "        [ 1.3891e-01, -1.2473e-01, -2.0861e-02,  1.9301e-01,  4.4110e-01,\n",
      "          6.5041e-02,  3.9235e-02,  1.9278e-01,  2.0855e-01,  3.1064e-02,\n",
      "         -8.8103e-02,  2.2949e-01,  6.3047e-02, -2.4358e-01,  7.5083e-02,\n",
      "         -1.0449e-01, -5.9873e-02,  8.4396e-02, -3.3148e-01, -8.5543e-02,\n",
      "          2.1088e-01,  2.7094e-02,  7.7558e-02, -2.9469e-02,  1.1047e-01,\n",
      "          1.3061e-01, -1.6859e-01,  1.5079e-01, -3.9328e-02,  2.8694e-01,\n",
      "         -8.9901e-02,  2.1197e-01, -1.1272e-03, -2.2817e-01,  2.1319e-01,\n",
      "          1.2187e-01, -7.2516e-02,  2.5685e-01, -2.2803e-01,  1.2694e-01,\n",
      "          1.1261e-01, -7.6905e-02,  1.7051e-02, -1.4781e-01,  1.1008e-02,\n",
      "         -5.4218e-02,  2.0132e-01, -1.1412e-03,  1.8341e-01, -1.8881e-01,\n",
      "          1.0464e-01,  1.3271e-01, -1.7164e-01,  1.4025e-01,  1.3441e-02,\n",
      "          1.0666e-01, -1.2656e-01,  1.4769e-01,  1.2691e-01, -1.8385e-02,\n",
      "         -7.6774e-02, -5.2801e-03,  1.7233e-01, -1.5774e-01]], device='cuda:0')), ('fc3.bias', tensor([ 0.2634, -0.1613,  0.2933,  0.2304,  0.2245,  0.1927,  0.0816, -0.2142,\n",
      "         0.4797,  0.1493], device='cuda:0'))])\n"
     ]
    }
   ],
   "execution_count": 44
  },
  {
   "metadata": {
    "ExecuteTime": {
     "end_time": "2024-05-23T12:10:46.561229Z",
     "start_time": "2024-05-23T12:10:46.495230Z"
    }
   },
   "cell_type": "code",
   "source": "print(student_simple_model.state_dict())",
   "outputs": [
    {
     "name": "stdout",
     "output_type": "stream",
     "text": [
      "OrderedDict([('fc1.weight', tensor([[ 0.0242,  0.0437, -0.0049,  ...,  0.0464,  0.0282,  0.0266],\n",
      "        [-0.0012,  0.0036,  0.0082,  ..., -0.0017,  0.0126, -0.0114],\n",
      "        [-0.0064,  0.0287, -0.0195,  ..., -0.0066,  0.0149,  0.0218],\n",
      "        ...,\n",
      "        [ 0.0144, -0.0170,  0.0211,  ...,  0.0089,  0.0162,  0.0426],\n",
      "        [ 0.0426,  0.0438,  0.0595,  ...,  0.0774,  0.0335,  0.0501],\n",
      "        [ 0.0545,  0.0302,  0.0361,  ...,  0.0521,  0.0586,  0.0130]],\n",
      "       device='cuda:0')), ('fc1.bias', tensor([-0.0679,  0.0114,  0.0060, -0.0216, -0.0022, -0.0528, -0.0025,  0.0447,\n",
      "         0.0407,  0.0049, -0.0035, -0.0006, -0.0152,  0.0076,  0.0082, -0.0036,\n",
      "        -0.0449,  0.0285, -0.0187, -0.0065,  0.0019, -0.0154, -0.0062,  0.0206,\n",
      "         0.0226, -0.0249,  0.0160, -0.0571,  0.0398,  0.0014, -0.0715, -0.0232,\n",
      "         0.0479, -0.0102,  0.0157,  0.0254, -0.0344,  0.0355, -0.0581, -0.0232,\n",
      "        -0.0222,  0.0083,  0.0120, -0.0212,  0.0113, -0.0074, -0.0236, -0.0113,\n",
      "        -0.0292,  0.0618,  0.0161, -0.0283, -0.0033,  0.0333,  0.0052,  0.0060,\n",
      "        -0.0227, -0.0129,  0.0020, -0.0464,  0.0286, -0.1088, -0.0559,  0.0452,\n",
      "        -0.0337, -0.0110,  0.0692,  0.0088,  0.0332, -0.0360,  0.0583, -0.0409,\n",
      "         0.0122, -0.0308,  0.0595, -0.0272,  0.0282, -0.0061,  0.0006,  0.0235,\n",
      "        -0.0154, -0.0353, -0.0458, -0.0010,  0.0221, -0.0337, -0.0207,  0.0168,\n",
      "         0.0349, -0.0161, -0.0096, -0.0417, -0.0603,  0.0201, -0.0029, -0.0267,\n",
      "         0.0315, -0.0161, -0.0290, -0.0028, -0.0468,  0.0544, -0.0250, -0.0589,\n",
      "        -0.0171, -0.0016, -0.0384, -0.0382,  0.0460,  0.0138, -0.0438, -0.0183,\n",
      "        -0.0147,  0.0351,  0.0371, -0.0231, -0.0282, -0.0134,  0.0458,  0.0127,\n",
      "         0.0171, -0.0612, -0.0197, -0.0048,  0.0259,  0.0243, -0.0580,  0.0370],\n",
      "       device='cuda:0')), ('fc2.weight', tensor([[-0.0063, -0.0092,  0.1408,  ..., -0.3233,  0.0646, -0.1429],\n",
      "        [-0.0494, -0.0198,  0.2298,  ..., -0.0341,  0.1061,  0.0167],\n",
      "        [ 0.0302,  0.1869,  0.0274,  ..., -0.0364,  0.0478, -0.1303],\n",
      "        ...,\n",
      "        [-0.0959,  0.0406, -0.0554,  ...,  0.2999,  0.0512,  0.0977],\n",
      "        [ 0.0683,  0.1053, -0.2433,  ...,  0.0220, -0.2069,  0.0184],\n",
      "        [-0.1240, -0.0705,  0.2566,  ...,  0.0825,  0.2199, -0.0202]],\n",
      "       device='cuda:0')), ('fc2.bias', tensor([ 0.1459,  0.0170,  0.0139, -0.0762,  0.0644, -0.1500, -0.0302, -0.2580,\n",
      "         0.0928, -0.2670, -0.0798,  0.0864, -0.1024, -0.1523, -0.1671, -0.0871,\n",
      "         0.0976, -0.0814, -0.2489, -0.2200, -0.0534, -0.2859, -0.2709, -0.1007,\n",
      "        -0.2211, -0.2034, -0.0560, -0.1267, -0.2219, -0.1754, -0.2043,  0.2200,\n",
      "         0.0260, -0.0878, -0.0159, -0.0043, -0.2892,  0.1461, -0.1105, -0.1245,\n",
      "        -0.0104, -0.1517, -0.1044,  0.2137,  0.1247, -0.1619, -0.2450, -0.1171,\n",
      "         0.0833, -0.1650, -0.0960, -0.2216,  0.0520, -0.3262, -0.0473,  0.0069,\n",
      "         0.1443, -0.0257,  0.1410,  0.0322,  0.1279, -0.1136,  0.2874, -0.0162],\n",
      "       device='cuda:0')), ('fc3.weight', tensor([[-4.4229e-01,  2.9919e-01, -2.6710e-01, -1.6166e-01, -7.4049e-02,\n",
      "          2.1771e-01, -5.2070e-03, -4.1513e-01,  1.2881e-01,  1.8442e-01,\n",
      "         -1.5639e-01, -7.8946e-02,  9.2439e-02,  2.9459e-01, -1.7778e-01,\n",
      "         -5.3220e-02,  2.0485e-01,  1.2146e-02,  3.2606e-01, -4.4611e-03,\n",
      "          1.3456e-01, -4.4101e-02,  1.4010e-01, -1.9530e-01,  3.6329e-02,\n",
      "         -2.5085e-01, -1.0662e-01, -4.1386e-01,  7.6054e-02, -1.4904e-01,\n",
      "         -2.6806e-01, -4.1213e-01, -6.2050e-02, -2.7560e-01,  1.8980e-01,\n",
      "         -3.5941e-01, -7.0088e-02, -1.0322e-01,  4.2916e-02, -3.6878e-03,\n",
      "         -9.2125e-02,  6.1592e-02, -8.1291e-02,  1.4633e-01, -1.3707e-01,\n",
      "          4.4301e-02,  2.6835e-01,  3.2586e-01,  6.8478e-03, -2.2442e-01,\n",
      "         -2.2860e-01,  1.7337e-04,  8.0637e-02,  2.5727e-01, -9.9842e-02,\n",
      "          2.4760e-01,  5.3269e-04, -6.6341e-03,  7.8522e-02,  1.5801e-01,\n",
      "         -4.0733e-01,  1.2722e-01,  3.8888e-02,  4.6616e-02],\n",
      "        [ 1.9755e-01, -4.8102e-01, -3.7070e-03, -4.1464e-01, -2.4268e-01,\n",
      "         -3.3602e-01, -9.3712e-02,  1.9062e-01, -1.9502e-01,  1.5869e-01,\n",
      "          8.6296e-02, -8.2068e-03, -2.4522e-02, -8.6275e-02, -3.2510e-01,\n",
      "         -2.7157e-01, -4.5713e-01, -2.1258e-01,  3.7965e-01,  8.9242e-02,\n",
      "         -5.6554e-02, -2.1969e-01, -5.8316e-02, -3.9908e-01, -3.0081e-01,\n",
      "          2.5842e-01, -4.5293e-01, -1.1403e-02,  2.4423e-02, -1.6977e-01,\n",
      "          2.5326e-01, -4.3220e-02,  9.1397e-02,  2.9123e-01, -1.5796e-01,\n",
      "         -2.9350e-01, -3.6707e-02, -3.5523e-01,  1.0538e-01, -2.1198e-02,\n",
      "         -2.4017e-01,  1.3952e-01,  1.3313e-01, -4.8534e-02,  2.2952e-01,\n",
      "          1.3743e-02,  4.1620e-02,  1.5093e-01,  2.8110e-02, -1.9249e-01,\n",
      "          2.2943e-01,  1.9462e-01, -1.0431e-01,  9.4422e-02,  1.5893e-01,\n",
      "         -6.9736e-02, -1.2922e-01, -3.0566e-01, -3.4998e-01, -2.0802e-02,\n",
      "          6.6897e-02, -3.8677e-01, -6.2105e-02, -1.7510e-01],\n",
      "        [ 2.6842e-02, -2.8503e-01,  2.3687e-01,  4.5521e-02, -1.9874e-01,\n",
      "         -5.2256e-01,  1.2239e-01, -1.1319e-02, -1.2781e-01,  2.3294e-01,\n",
      "          1.3397e-01, -3.1725e-01,  2.0961e-01,  1.3775e-01, -1.8737e-01,\n",
      "         -1.0172e-01,  1.6350e-01,  8.5772e-02, -3.6608e-01,  1.4729e-01,\n",
      "         -9.6337e-02,  9.7114e-02, -2.9691e-01,  1.6738e-01,  1.6857e-01,\n",
      "         -1.8612e-01,  4.0259e-02,  6.2853e-02,  1.0324e-02,  3.2400e-01,\n",
      "          1.5507e-01,  4.3439e-02, -1.6289e-01,  1.8975e-01,  1.1514e-01,\n",
      "          1.3270e-01, -1.2652e-01, -3.7548e-01,  7.2108e-02, -2.5496e-01,\n",
      "         -2.5348e-01, -1.8657e-01, -2.3582e-01, -3.1147e-01, -3.0016e-02,\n",
      "          2.1320e-01,  1.7379e-01, -3.7427e-01, -4.6811e-01, -1.5410e-01,\n",
      "         -4.3137e-01, -4.6108e-01,  8.5352e-03, -1.0924e-02, -3.7796e-01,\n",
      "          7.2772e-02,  1.8495e-01, -4.5782e-01,  4.2611e-02, -1.6557e-01,\n",
      "         -1.0859e-01,  1.8876e-01, -2.0154e-01,  9.9355e-02],\n",
      "        [-5.0194e-01,  1.8680e-01, -9.8359e-02, -1.3480e-01, -2.2203e-01,\n",
      "         -2.3465e-01, -1.5364e-01,  2.0688e-03, -3.0499e-01,  7.1176e-02,\n",
      "          1.3038e-01,  6.7344e-02,  8.9179e-02, -3.9319e-01, -3.1213e-01,\n",
      "         -3.1181e-02, -2.7103e-01,  1.1798e-02, -2.5134e-01, -3.8049e-01,\n",
      "         -2.5439e-01,  1.4583e-01, -9.5733e-02, -1.1366e-01,  1.2367e-01,\n",
      "         -1.5948e-01, -3.0720e-01,  2.5400e-01, -5.0540e-01, -1.8981e-01,\n",
      "         -3.4631e-01,  2.5441e-01, -3.1855e-01, -2.5716e-01,  2.6936e-01,\n",
      "          1.3340e-01,  1.4301e-01, -1.9831e-01, -8.1028e-02, -4.6759e-01,\n",
      "         -4.4817e-01, -1.2462e-01, -4.0455e-01, -5.2829e-01,  1.6448e-01,\n",
      "         -2.1475e-01, -1.4108e-01, -4.8537e-01,  2.7393e-02, -2.5393e-01,\n",
      "          1.2516e-01,  8.9393e-02,  4.6678e-01,  1.3647e-02, -3.6626e-01,\n",
      "          1.8566e-01,  8.1741e-02,  9.7210e-02,  1.0116e-01, -7.2081e-02,\n",
      "          2.7619e-01, -3.1358e-01, -5.7096e-02,  2.3055e-01],\n",
      "        [ 1.8148e-01, -2.0601e-01, -2.8238e-01,  1.2969e-01,  1.2016e-01,\n",
      "         -3.0563e-01, -1.5770e-01,  1.4165e-01, -1.5108e-02, -1.2544e-02,\n",
      "         -2.9637e-01,  2.2051e-01, -2.0075e-01,  4.4852e-02, -3.5930e-01,\n",
      "          8.1290e-02, -6.3789e-05, -4.6709e-01, -3.9680e-01, -3.6138e-02,\n",
      "          1.7386e-01,  1.4154e-03, -2.1551e-02,  2.1528e-01, -5.0649e-01,\n",
      "          5.6635e-02, -6.0863e-02, -3.6503e-01, -7.6373e-02, -3.1257e-01,\n",
      "         -4.1864e-02, -9.9260e-02,  4.1292e-01,  2.5749e-01, -2.5582e-01,\n",
      "          1.2463e-01, -2.8646e-01,  2.2705e-01,  7.2814e-02,  1.2463e-01,\n",
      "          2.6888e-01, -1.5103e-01,  2.9426e-01,  3.3729e-02,  1.8045e-01,\n",
      "         -2.3094e-01,  1.3299e-01, -3.0477e-01,  9.1717e-02, -7.4299e-02,\n",
      "          8.9336e-02, -2.4865e-01,  4.7266e-02, -2.6074e-01, -3.6465e-01,\n",
      "         -5.3893e-01, -4.8803e-01,  3.6786e-02, -3.3368e-01, -3.7781e-01,\n",
      "         -2.0761e-01,  2.1451e-01,  5.2599e-02,  3.0114e-01],\n",
      "        [-1.5984e-01, -2.6321e-01, -1.3408e-01,  2.4590e-01, -2.6773e-01,\n",
      "          2.8454e-01, -1.1181e-01, -4.6903e-01, -1.6658e-01, -8.5921e-02,\n",
      "         -4.5489e-01, -2.6138e-02, -2.9359e-01, -9.3345e-02,  1.1119e-01,\n",
      "         -1.3612e-01,  1.6649e-01,  1.0127e-01,  1.0370e-01, -4.4314e-02,\n",
      "          3.9799e-02,  2.3998e-01, -8.0303e-02, -1.1779e-01,  1.7334e-02,\n",
      "         -3.9371e-01, -3.0373e-01,  3.5651e-01,  5.8338e-02, -1.4426e-01,\n",
      "          7.9036e-03,  1.6879e-01, -9.5770e-02,  1.7118e-01,  6.6670e-03,\n",
      "         -2.6438e-03, -1.5964e-01, -1.8095e-01, -2.1217e-01, -2.4056e-01,\n",
      "         -2.4114e-01,  2.6185e-01, -2.3552e-01, -3.5771e-01, -3.6858e-01,\n",
      "         -3.8157e-02, -4.7596e-01, -1.4135e-01,  1.4927e-01,  1.5134e-02,\n",
      "          1.0454e-01,  4.1914e-01, -1.9060e-01, -3.9536e-01,  2.6070e-01,\n",
      "          7.3733e-03, -7.1458e-02, -1.9223e-01, -4.1707e-01,  5.0639e-02,\n",
      "          1.9527e-01, -1.1134e-01,  1.7640e-01, -3.9281e-01],\n",
      "        [-7.7582e-02, -1.2515e-01, -1.2725e-01, -2.9013e-01,  2.5366e-02,\n",
      "          1.1867e-01,  2.3372e-01, -1.8392e-01, -2.6313e-01, -8.3041e-02,\n",
      "         -3.6872e-01, -4.7056e-01, -2.1386e-01, -1.6032e-01,  4.0265e-01,\n",
      "          2.8306e-01, -9.1594e-02,  1.5405e-03, -1.7221e-01,  1.8760e-01,\n",
      "         -1.0563e-01, -7.8002e-02,  1.8077e-02,  3.0224e-01, -4.7274e-01,\n",
      "         -1.2501e-01,  3.7706e-01, -1.5555e-01, -9.0499e-02,  1.5955e-01,\n",
      "         -2.0139e-01, -4.1769e-01, -2.6376e-02, -1.7439e-01, -2.0048e-01,\n",
      "         -3.7612e-01, -1.2439e-01, -3.2645e-02, -3.3517e-02, -3.2082e-02,\n",
      "          2.0157e-01,  1.6609e-01, -7.5690e-02,  8.9521e-02, -7.5676e-02,\n",
      "          1.0421e-01,  7.9423e-02, -4.8737e-02,  2.9440e-01, -4.1376e-02,\n",
      "         -1.1262e-01,  4.2961e-02, -1.6583e-01,  1.7003e-01, -1.4523e-02,\n",
      "         -1.5153e-01,  1.1431e-01, -1.2154e-01, -1.4370e-01,  9.8704e-02,\n",
      "          6.3396e-02, -1.7116e-01,  1.1551e-01, -8.3949e-02],\n",
      "        [ 3.8054e-02, -2.5984e-01, -1.8887e-01,  2.0602e-01, -4.5010e-01,\n",
      "         -1.8781e-01, -9.7040e-02,  1.3350e-01,  1.9337e-01, -3.1064e-02,\n",
      "          9.9258e-02,  1.0111e-01, -2.4187e-01, -1.3928e-01,  1.1198e-01,\n",
      "          8.5310e-02, -5.2484e-02,  1.3906e-01, -1.3272e-01, -6.0424e-01,\n",
      "         -3.6448e-01, -1.0485e-01,  2.5166e-01, -2.3743e-01,  1.9992e-02,\n",
      "          2.3548e-01, -3.1362e-01,  1.4353e-02, -2.8315e-01, -4.9664e-01,\n",
      "          2.1448e-01, -1.2471e-01, -4.3221e-01, -9.6220e-02, -2.4690e-02,\n",
      "          1.8278e-01,  1.3466e-01, -4.6500e-01, -2.2010e-02,  8.4125e-02,\n",
      "          1.4958e-01, -4.1481e-01,  2.3158e-01, -3.0015e-02, -7.9767e-02,\n",
      "         -9.7409e-02, -4.1013e-01,  2.1934e-01, -2.5279e-01,  3.1835e-01,\n",
      "          3.0910e-02, -2.0666e-01, -4.4488e-02,  6.4247e-02, -3.3201e-01,\n",
      "          2.9986e-02, -8.0999e-02, -1.6979e-01,  5.9592e-02, -4.4101e-01,\n",
      "          4.9535e-02,  2.1802e-01,  1.0273e-01, -5.5588e-01],\n",
      "        [ 1.8574e-01, -1.5468e-01,  1.9035e-01, -4.8185e-01, -4.2213e-01,\n",
      "         -1.8713e-01, -1.0773e-01, -1.7220e-01,  1.4442e-01, -3.9477e-01,\n",
      "         -8.0315e-02,  1.0814e-02,  1.7070e-01, -3.2336e-01, -8.5786e-02,\n",
      "         -1.2782e-01,  1.8786e-01,  7.5723e-02, -1.2390e-01, -2.5552e-01,\n",
      "         -2.2311e-01, -4.3368e-01, -4.7654e-01, -2.0198e-01, -9.4801e-02,\n",
      "         -4.0735e-01, -3.5453e-01, -2.9768e-01,  4.1859e-03, -3.3312e-01,\n",
      "         -3.9028e-01,  1.1589e-01,  3.5463e-02, -8.8789e-02,  1.1185e-03,\n",
      "          7.8005e-02, -3.6784e-01,  2.5826e-01, -1.7255e-01, -1.3232e-01,\n",
      "         -3.1507e-01,  1.3428e-01, -2.3747e-01,  2.5586e-01,  2.1730e-02,\n",
      "          9.9636e-02, -3.8596e-01, -3.2777e-01,  1.0119e-01, -1.1050e-01,\n",
      "         -5.1939e-02, -3.9224e-01, -5.0887e-02, -2.1505e-01, -2.0277e-01,\n",
      "          1.3601e-01,  1.7187e-01, -1.3574e-01,  1.9790e-01,  1.8963e-01,\n",
      "          2.6146e-01, -2.2109e-01,  1.8473e-01, -1.3733e-01],\n",
      "        [ 8.9369e-02, -1.0984e-01, -2.2025e-01,  1.7684e-01,  2.5208e-01,\n",
      "         -3.2807e-01,  2.6005e-02,  1.1977e-01,  2.1074e-01, -2.7213e-01,\n",
      "         -5.5750e-01,  2.0696e-01, -2.5862e-01, -1.2959e-01, -2.9250e-01,\n",
      "         -4.7219e-01, -3.4709e-02,  1.5825e-02, -3.2039e-01,  2.0382e-01,\n",
      "          1.6188e-01,  4.2592e-02, -2.5433e-01, -1.9689e-01, -2.6558e-01,\n",
      "          2.4858e-02, -1.6439e-01,  3.9736e-02,  1.8117e-02, -1.8549e-02,\n",
      "         -2.9211e-01,  2.4950e-01, -2.8230e-01, -3.4978e-01,  1.7863e-01,\n",
      "          2.7145e-02, -4.3452e-01,  1.9643e-01, -1.6660e-01,  1.6447e-01,\n",
      "          4.4979e-02, -3.8314e-01, -2.0367e-01, -3.9812e-01, -2.1427e-02,\n",
      "         -5.1380e-01,  4.8053e-02, -1.2909e-01,  1.0239e-01, -3.2246e-01,\n",
      "          5.8313e-02, -1.5906e-01, -3.1324e-01,  1.5488e-01,  1.4309e-01,\n",
      "         -1.1294e-01, -3.8495e-01,  1.3017e-01,  1.2755e-02, -1.1117e-01,\n",
      "         -2.3567e-01, -1.0620e-01,  1.9940e-01, -1.6490e-01]], device='cuda:0')), ('fc3.bias', tensor([ 0.1702, -0.0451,  0.0416,  0.1191,  0.2304,  0.0044,  0.1706, -0.0725,\n",
      "         0.5191,  0.2112], device='cuda:0'))])\n"
     ]
    }
   ],
   "execution_count": 47
  },
  {
   "metadata": {
    "ExecuteTime": {
     "end_time": "2024-05-23T12:13:57.100550Z",
     "start_time": "2024-05-23T12:13:55.084417Z"
    }
   },
   "cell_type": "code",
   "source": [
    "import matplotlib.pyplot as plt\n",
    "import numpy as np\n",
    "\n",
    "# 获取模型参数的字典\n",
    "state_dict_simple = student_simple_model.state_dict()\n",
    "state_dict_kd = student_kd_model.state_dict()\n",
    "\n",
    "# 绘制权重参数\n",
    "plt.figure(figsize=(15, 5))\n",
    "plt.subplot(1, 2, 1)\n",
    "for name, param in state_dict_simple.items():\n",
    "    if 'weight' in name:  # 只绘制权重参数\n",
    "        param_cpu = param.cpu().detach().numpy().flatten()  # 将参数移动到CPU并转换为NumPy数组\n",
    "        plt.hist(param_cpu, bins=50, alpha=0.7, label=f'Simple Model: {name}')\n",
    "plt.title('Weight distributions - Simple Model')\n",
    "plt.legend()\n",
    "\n",
    "plt.subplot(1, 2, 2)\n",
    "for name, param in state_dict_kd.items():\n",
    "    if 'weight' in name:  # 只绘制权重参数\n",
    "        param_cpu = param.cpu().detach().numpy().flatten()  # 将参数移动到CPU并转换为NumPy数组\n",
    "        plt.hist(param_cpu, bins=50, alpha=0.7, label=f'KD Model: {name}')\n",
    "plt.title('Weight distributions - KD Model')\n",
    "plt.legend()\n",
    "\n",
    "plt.tight_layout()\n",
    "plt.show()\n",
    "\n",
    "# 绘制偏置参数\n",
    "plt.figure(figsize=(15, 5))\n",
    "plt.subplot(1, 2, 1)\n",
    "for name, param in state_dict_simple.items():\n",
    "    if 'bias' in name:  # 只绘制偏置参数\n",
    "        param_cpu = param.cpu().detach().numpy().flatten()  # 将参数移动到CPU并转换为NumPy数组\n",
    "        plt.hist(param_cpu, bins=50, alpha=0.7, label=f'Simple Model: {name}')\n",
    "plt.title('Bias distributions - Simple Model')\n",
    "plt.legend()\n",
    "\n",
    "plt.subplot(1, 2, 2)\n",
    "for name, param in state_dict_kd.items():\n",
    "    if 'bias' in name:  # 只绘制偏置参数\n",
    "        param_cpu = param.cpu().detach().numpy().flatten()  # 将参数移动到CPU并转换为NumPy数组\n",
    "        plt.hist(param_cpu, bins=50, alpha=0.7, label=f'KD Model: {name}')\n",
    "plt.title('Bias distributions - KD Model')\n",
    "plt.legend()\n",
    "\n",
    "plt.tight_layout()\n",
    "plt.show()\n"
   ],
   "outputs": [
    {
     "data": {
      "text/plain": [
       "<Figure size 1500x500 with 2 Axes>"
      ],
      "image/png": "[encoded data removed]"
     },
     "metadata": {},
     "output_type": "display_data"
    },
    {
     "data": {
      "text/plain": [
       "<Figure size 1500x500 with 2 Axes>"
      ],
      "image/png": "[encoded data removed]"
     },
     "metadata": {},
     "output_type": "display_data"
    }
   ],
   "execution_count": 50
  }
 ],
 "metadata": {
  "kernelspec": {
   "display_name": "Python 3",
   "language": "python",
   "name": "python3"
  },
  "language_info": {
   "codemirror_mode": {
    "name": "ipython",
    "version": 3
   },
   "file_extension": ".py",
   "mimetype": "text/x-python",
   "name": "python",
   "nbconvert_exporter": "python",
   "pygments_lexer": "ipython3",
   "version": "3.6.8"
  }
 },
 "nbformat": 4,
 "nbformat_minor": 1
}
